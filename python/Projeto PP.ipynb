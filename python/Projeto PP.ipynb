{
 "cells": [
  {
   "cell_type": "code",
   "execution_count": 1,
   "metadata": {},
   "outputs": [
    {
     "name": "stderr",
     "output_type": "stream",
     "text": [
      "C:\\ProgramData\\Anaconda2\\lib\\site-packages\\ggplot\\utils.py:81: FutureWarning: pandas.tslib is deprecated and will be removed in a future version.\n",
      "You can access Timestamp as pandas.Timestamp\n",
      "  pd.tslib.Timestamp,\n",
      "C:\\ProgramData\\Anaconda2\\lib\\site-packages\\ggplot\\stats\\smoothers.py:4: FutureWarning: The pandas.lib module is deprecated and will be removed in a future version. These are private functions and can be accessed from pandas._libs.lib instead\n",
      "  from pandas.lib import Timestamp\n"
     ]
    },
    {
     "ename": "ImportError",
     "evalue": "cannot import name Timestamp",
     "output_type": "error",
     "traceback": [
      "\u001b[1;31m---------------------------------------------------------------------------\u001b[0m",
      "\u001b[1;31mImportError\u001b[0m                               Traceback (most recent call last)",
      "\u001b[1;32m<ipython-input-1-a39acdd44172>\u001b[0m in \u001b[0;36m<module>\u001b[1;34m()\u001b[0m\n\u001b[0;32m      1\u001b[0m \u001b[1;32mimport\u001b[0m \u001b[0mpandas\u001b[0m \u001b[1;32mas\u001b[0m \u001b[0mpd\u001b[0m\u001b[1;33m\u001b[0m\u001b[0m\n\u001b[1;32m----> 2\u001b[1;33m \u001b[1;32mfrom\u001b[0m \u001b[0mggplot\u001b[0m \u001b[1;32mimport\u001b[0m \u001b[1;33m*\u001b[0m\u001b[1;33m\u001b[0m\u001b[0m\n\u001b[0m\u001b[0;32m      3\u001b[0m \u001b[0mpd\u001b[0m\u001b[1;33m.\u001b[0m\u001b[0mset_option\u001b[0m\u001b[1;33m(\u001b[0m\u001b[1;34m\"display.max_columns\"\u001b[0m\u001b[1;33m,\u001b[0m\u001b[1;36m166\u001b[0m\u001b[1;33m)\u001b[0m\u001b[1;33m\u001b[0m\u001b[0m\n",
      "\u001b[1;32mC:\\ProgramData\\Anaconda2\\lib\\site-packages\\ggplot\\__init__.py\u001b[0m in \u001b[0;36m<module>\u001b[1;34m()\u001b[0m\n\u001b[0;32m     18\u001b[0m \u001b[1;33m\u001b[0m\u001b[0m\n\u001b[0;32m     19\u001b[0m \u001b[1;32mfrom\u001b[0m \u001b[1;33m.\u001b[0m\u001b[0mgeoms\u001b[0m \u001b[1;32mimport\u001b[0m \u001b[0mgeom_area\u001b[0m\u001b[1;33m,\u001b[0m \u001b[0mgeom_blank\u001b[0m\u001b[1;33m,\u001b[0m \u001b[0mgeom_boxplot\u001b[0m\u001b[1;33m,\u001b[0m \u001b[0mgeom_line\u001b[0m\u001b[1;33m,\u001b[0m \u001b[0mgeom_point\u001b[0m\u001b[1;33m,\u001b[0m \u001b[0mgeom_jitter\u001b[0m\u001b[1;33m,\u001b[0m \u001b[0mgeom_histogram\u001b[0m\u001b[1;33m,\u001b[0m \u001b[0mgeom_density\u001b[0m\u001b[1;33m,\u001b[0m \u001b[0mgeom_hline\u001b[0m\u001b[1;33m,\u001b[0m \u001b[0mgeom_vline\u001b[0m\u001b[1;33m,\u001b[0m \u001b[0mgeom_bar\u001b[0m\u001b[1;33m,\u001b[0m \u001b[0mgeom_abline\u001b[0m\u001b[1;33m,\u001b[0m \u001b[0mgeom_tile\u001b[0m\u001b[1;33m,\u001b[0m \u001b[0mgeom_rect\u001b[0m\u001b[1;33m,\u001b[0m \u001b[0mgeom_bin2d\u001b[0m\u001b[1;33m,\u001b[0m \u001b[0mgeom_step\u001b[0m\u001b[1;33m,\u001b[0m \u001b[0mgeom_text\u001b[0m\u001b[1;33m,\u001b[0m \u001b[0mgeom_path\u001b[0m\u001b[1;33m,\u001b[0m \u001b[0mgeom_ribbon\u001b[0m\u001b[1;33m,\u001b[0m \u001b[0mgeom_now_its_art\u001b[0m\u001b[1;33m,\u001b[0m \u001b[0mgeom_violin\u001b[0m\u001b[1;33m,\u001b[0m \u001b[0mgeom_errorbar\u001b[0m\u001b[1;33m,\u001b[0m \u001b[0mgeom_polygon\u001b[0m\u001b[1;33m\u001b[0m\u001b[0m\n\u001b[1;32m---> 20\u001b[1;33m \u001b[1;32mfrom\u001b[0m \u001b[1;33m.\u001b[0m\u001b[0mstats\u001b[0m \u001b[1;32mimport\u001b[0m \u001b[0mstat_smooth\u001b[0m\u001b[1;33m,\u001b[0m \u001b[0mstat_density\u001b[0m\u001b[1;33m\u001b[0m\u001b[0m\n\u001b[0m\u001b[0;32m     21\u001b[0m \u001b[1;33m\u001b[0m\u001b[0m\n\u001b[0;32m     22\u001b[0m \u001b[1;32mfrom\u001b[0m \u001b[1;33m.\u001b[0m\u001b[0mfacets\u001b[0m \u001b[1;32mimport\u001b[0m \u001b[0mfacet_wrap\u001b[0m\u001b[1;33m,\u001b[0m \u001b[0mfacet_grid\u001b[0m\u001b[1;33m,\u001b[0m \u001b[0mFacet\u001b[0m\u001b[1;33m\u001b[0m\u001b[0m\n",
      "\u001b[1;32mC:\\ProgramData\\Anaconda2\\lib\\site-packages\\ggplot\\stats\\__init__.py\u001b[0m in \u001b[0;36m<module>\u001b[1;34m()\u001b[0m\n\u001b[0;32m      1\u001b[0m \u001b[1;32mfrom\u001b[0m \u001b[1;33m.\u001b[0m\u001b[0mstat_density\u001b[0m \u001b[1;32mimport\u001b[0m \u001b[0mstat_density\u001b[0m\u001b[1;33m\u001b[0m\u001b[0m\n\u001b[1;32m----> 2\u001b[1;33m \u001b[1;32mfrom\u001b[0m \u001b[1;33m.\u001b[0m\u001b[0mstat_smooth\u001b[0m \u001b[1;32mimport\u001b[0m \u001b[0mstat_smooth\u001b[0m\u001b[1;33m\u001b[0m\u001b[0m\n\u001b[0m",
      "\u001b[1;32mC:\\ProgramData\\Anaconda2\\lib\\site-packages\\ggplot\\stats\\stat_smooth.py\u001b[0m in \u001b[0;36m<module>\u001b[1;34m()\u001b[0m\n\u001b[0;32m      3\u001b[0m \u001b[1;33m\u001b[0m\u001b[0m\n\u001b[0;32m      4\u001b[0m \u001b[1;32mfrom\u001b[0m \u001b[1;33m.\u001b[0m\u001b[1;33m.\u001b[0m\u001b[0mgeoms\u001b[0m\u001b[1;33m.\u001b[0m\u001b[0mgeom\u001b[0m \u001b[1;32mimport\u001b[0m \u001b[0mgeom\u001b[0m\u001b[1;33m\u001b[0m\u001b[0m\n\u001b[1;32m----> 5\u001b[1;33m \u001b[1;32mfrom\u001b[0m \u001b[1;33m.\u001b[0m \u001b[1;32mimport\u001b[0m \u001b[0msmoothers\u001b[0m\u001b[1;33m\u001b[0m\u001b[0m\n\u001b[0m\u001b[0;32m      6\u001b[0m \u001b[1;32mfrom\u001b[0m \u001b[1;33m.\u001b[0m\u001b[1;33m.\u001b[0m\u001b[0mutils\u001b[0m \u001b[1;32mimport\u001b[0m \u001b[0mis_date\u001b[0m\u001b[1;33m\u001b[0m\u001b[0m\n\u001b[0;32m      7\u001b[0m \u001b[1;33m\u001b[0m\u001b[0m\n",
      "\u001b[1;32mC:\\ProgramData\\Anaconda2\\lib\\site-packages\\ggplot\\stats\\smoothers.py\u001b[0m in \u001b[0;36m<module>\u001b[1;34m()\u001b[0m\n\u001b[0;32m      2\u001b[0m                         unicode_literals)\n\u001b[0;32m      3\u001b[0m \u001b[1;32mimport\u001b[0m \u001b[0mnumpy\u001b[0m \u001b[1;32mas\u001b[0m \u001b[0mnp\u001b[0m\u001b[1;33m\u001b[0m\u001b[0m\n\u001b[1;32m----> 4\u001b[1;33m \u001b[1;32mfrom\u001b[0m \u001b[0mpandas\u001b[0m\u001b[1;33m.\u001b[0m\u001b[0mlib\u001b[0m \u001b[1;32mimport\u001b[0m \u001b[0mTimestamp\u001b[0m\u001b[1;33m\u001b[0m\u001b[0m\n\u001b[0m\u001b[0;32m      5\u001b[0m \u001b[1;32mimport\u001b[0m \u001b[0mpandas\u001b[0m \u001b[1;32mas\u001b[0m \u001b[0mpd\u001b[0m\u001b[1;33m\u001b[0m\u001b[0m\n\u001b[0;32m      6\u001b[0m \u001b[1;32mimport\u001b[0m \u001b[0mstatsmodels\u001b[0m\u001b[1;33m.\u001b[0m\u001b[0mapi\u001b[0m \u001b[1;32mas\u001b[0m \u001b[0msm\u001b[0m\u001b[1;33m\u001b[0m\u001b[0m\n",
      "\u001b[1;31mImportError\u001b[0m: cannot import name Timestamp"
     ]
    }
   ],
   "source": [
    "import pandas as pd\n",
    "from ggplot import *\n",
    "pd.set_option(\"display.max_columns\",166)"
   ]
  },
  {
   "cell_type": "code",
   "execution_count": null,
   "metadata": {},
   "outputs": [],
   "source": [
    "datasetProposta = pd.read_csv('C:\\Users\\wellington\\Documents\\ciencia dos dados\\dados\\siconv_proposta.csv', sep=';')\n",
    "#datasetProposta.isnull().sum()#preocupante os itens vazios, mas não afeta pernambuco (vai apagar?)"
   ]
  },
  {
   "cell_type": "code",
   "execution_count": null,
   "metadata": {},
   "outputs": [],
   "source": [
    "datasetDeputado = pd.read_csv('C:\\Users\\wellington\\Documents\\ciencia dos dados\\dados\\deputado.csv', sep=';')"
   ]
  },
  {
   "cell_type": "code",
   "execution_count": null,
   "metadata": {},
   "outputs": [],
   "source": [
    "datasetSenador = pd.read_csv('C:\\Users\\wellington\\Documents\\ciencia dos dados\\dados\\senadores.csv', sep=';')"
   ]
  },
  {
   "cell_type": "code",
   "execution_count": null,
   "metadata": {},
   "outputs": [],
   "source": [
    "datasetConvenio = pd.read_csv('C:\\Users\\wellington\\Documents\\ciencia dos dados\\dados\\siconv_convenio.csv', sep=';')"
   ]
  },
  {
   "cell_type": "code",
   "execution_count": null,
   "metadata": {},
   "outputs": [],
   "source": [
    "datasetDesembolso = pd.read_csv('C:\\Users\\wellington\\Documents\\ciencia dos dados\\dados\\siconv_desembolso.csv', sep=';')"
   ]
  },
  {
   "cell_type": "code",
   "execution_count": null,
   "metadata": {},
   "outputs": [],
   "source": [
    "datasetEmenda = pd.read_csv('C:\\Users\\wellington\\Documents\\ciencia dos dados\\dados\\siconv_emenda.csv', sep=';')"
   ]
  },
  {
   "cell_type": "code",
   "execution_count": null,
   "metadata": {},
   "outputs": [],
   "source": [
    "datasetEmpenho = pd.read_csv('C:\\Users\\wellington\\Documents\\ciencia dos dados\\dados\\siconv_empenho.csv', sep=';')"
   ]
  },
  {
   "cell_type": "code",
   "execution_count": null,
   "metadata": {},
   "outputs": [],
   "source": [
    "datasetPagamento = pd.read_csv('C:\\Users\\wellington\\Documents\\ciencia dos dados\\dados\\siconv_pagamento.csv', sep=';')"
   ]
  },
  {
   "cell_type": "code",
   "execution_count": null,
   "metadata": {},
   "outputs": [],
   "source": [
    "datasetHistSitua = pd.read_csv('C:\\Users\\wellington\\Documents\\ciencia dos dados\\dados\\siconv_historico_situacao.csv', sep=';')"
   ]
  },
  {
   "cell_type": "code",
   "execution_count": null,
   "metadata": {},
   "outputs": [],
   "source": [
    "datasetMeta = pd.read_csv('C:\\Users\\wellington\\Documents\\ciencia dos dados\\dados\\siconv_meta_crono_fisico.csv', sep=';')"
   ]
  },
  {
   "cell_type": "code",
   "execution_count": null,
   "metadata": {},
   "outputs": [],
   "source": [
    "datasetConvenente = pd.read_csv('C:\\Users\\wellington\\Documents\\ciencia dos dados\\dados\\siconv_obtv_convenente.csv', sep=';')"
   ]
  },
  {
   "cell_type": "code",
   "execution_count": null,
   "metadata": {},
   "outputs": [],
   "source": [
    "datasetTermo = pd.read_csv('C:\\Users\\wellington\\Documents\\ciencia dos dados\\dados\\siconv_termo_aditivo.csv', sep=';')"
   ]
  },
  {
   "cell_type": "code",
   "execution_count": null,
   "metadata": {
    "scrolled": false
   },
   "outputs": [],
   "source": [
    "datasetEscolas = pd.read_csv('C:\\Users\\wellington\\Documents\\ciencia dos dados\\dados\\escolas.csv', encoding='ISO-8859-1', sep='|')\n",
    "#datasetEscolas.isnull().sum()\n",
    "datasetEscolas.loc[datasetEscolas['CO_MUNICIPIO'] == 2600203.0]#codigo do municipio da tabela proposta\n",
    "\n",
    "#pd.value_counts(datasetEscolas['CO_MESORREGIAO'])"
   ]
  },
  {
   "cell_type": "code",
   "execution_count": null,
   "metadata": {},
   "outputs": [],
   "source": [
    "datasetDataCarga = pd.read_csv('C:\\Users\\wellington\\Documents\\ciencia dos dados\\dados\\data_carga_siconv.csv', sep=';')"
   ]
  },
  {
   "cell_type": "code",
   "execution_count": null,
   "metadata": {},
   "outputs": [],
   "source": [
    "import ggplot\n",
    "prospostaEducacaoPE = datasetProposta.loc[(datasetProposta['DESC_ORGAO_SUP'] == 'MINISTERIO DA EDUCACAO') & (datasetProposta['UF_PROPONENTE'] == 'PE')]\n",
    "prospostaEducacaoPE.head()\n",
    "\n",
    "#situacao = pd.value_counts(prospostaEducacaoPE['SITUACAO_CONTA'])#situacao das propostas\n",
    "#situacao\n",
    "#situacao.plot(x='SITUACAO_CONTA', title='Situção das propostas',color='r')\n",
    "geom_bar(position = 'stack', stat = 'SITUACAO_CONTA')\n",
    "\n",
    "#prospostaEducacaoPE.isnull().sum()#itens vazios '''"
   ]
  },
  {
   "cell_type": "code",
   "execution_count": null,
   "metadata": {},
   "outputs": [],
   "source": [
    "pd.value_counts(datasetProposta['SITUACAO_CONTA'])"
   ]
  }
 ],
 "metadata": {
  "kernelspec": {
   "display_name": "Python 2",
   "language": "python",
   "name": "python2"
  },
  "language_info": {
   "codemirror_mode": {
    "name": "ipython",
    "version": 2
   },
   "file_extension": ".py",
   "mimetype": "text/x-python",
   "name": "python",
   "nbconvert_exporter": "python",
   "pygments_lexer": "ipython2",
   "version": "2.7.15"
  }
 },
 "nbformat": 4,
 "nbformat_minor": 2
}
